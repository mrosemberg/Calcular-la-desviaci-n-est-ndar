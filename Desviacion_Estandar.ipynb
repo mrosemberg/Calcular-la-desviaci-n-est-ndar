{
 "cells": [
  {
   "cell_type": "markdown",
   "metadata": {},
   "source": [
    "# Calcular la desviación estándar\n",
    "**Paso 1:** calcular la media.\n",
    "\n",
    "**Paso 2:** calcular el cuadrado de la distancia a la media para cada dato.\n",
    "\n",
    "**Paso 3:** sumar los valores que resultaron del paso 2.\n",
    "\n",
    "**Paso 4:** dividir entre el número de datos.\n",
    "\n",
    "**Paso 5:** sacar la raíz cuadrada."
   ]
  },
  {
   "cell_type": "code",
   "execution_count": 7,
   "metadata": {},
   "outputs": [],
   "source": [
    "# Creamos una lista para insertar los datos a calcular\n",
    "conjuntoDatos = []\n",
    "\n",
    "def agregarDatosEnConjunto():\n",
    "    \"\"\"\n",
    "     Func: Agrega datos al conjuto para el uso en la formula\n",
    "    \"\"\"\n",
    "    \n",
    "    while True:\n",
    "        dato = input('Agregue un numero al conjunto de datos. Presione ENTER para continuar:')\n",
    "\n",
    "        if dato == \"\" and type(dato).isnumeric:\n",
    "            break\n",
    "        else:\n",
    "            conjuntoDatos.append(int(dato))\n",
    "        \n",
    "        print('------------------------------------------------------')"
   ]
  },
  {
   "cell_type": "code",
   "execution_count": 8,
   "metadata": {},
   "outputs": [],
   "source": [
    "def calcularMedia():\n",
    "    \"\"\"\n",
    "     Func: Calculo de la media\n",
    "    \"\"\"\n",
    "    sumaDatos      = 0\n",
    "    calculoMedia   = 0\n",
    "    \n",
    "    for dato in conjuntoDatos:\n",
    "        sumaDatos += dato\n",
    "    \n",
    "    calculoMedia = sumaDatos/len(conjuntoDatos)\n",
    "    \n",
    "    return calculoMedia"
   ]
  },
  {
   "cell_type": "code",
   "execution_count": 9,
   "metadata": {},
   "outputs": [],
   "source": [
    "def calculoCuadradoDistanciaMedia(media):\n",
    "    \"\"\"\n",
    "     Func: Calculo para hallar el cuadrado de la distancia media\n",
    "    \"\"\"\n",
    "    calcCuadradoDistanciaMedia = []\n",
    "    \n",
    "    for dato in conjuntoDatos:\n",
    "        datoCalculado = (dato-media)**2\n",
    "        calcCuadradoDistanciaMedia.append(datoCalculado)\n",
    "    \n",
    "    return calcCuadradoDistanciaMedia"
   ]
  },
  {
   "cell_type": "code",
   "execution_count": 10,
   "metadata": {},
   "outputs": [],
   "source": [
    "def sumaCuadradoDistancia(cuadradoDistanciaMedia):\n",
    "    \"\"\"\n",
    "     Func: Suma el cuadrado de la distancia media\n",
    "    \"\"\"\n",
    "    \n",
    "    sumaCuadrado = 0\n",
    "    \n",
    "    for i in range(len(cuadradoDistanciaMedia)):\n",
    "        sumaCuadrado += cuadradoDistanciaMedia[i]\n",
    "    \n",
    "    return sumaCuadrado"
   ]
  },
  {
   "cell_type": "code",
   "execution_count": 14,
   "metadata": {},
   "outputs": [],
   "source": [
    "def calculoDesviacionEstandar():\n",
    "    agregarDatosEnConjunto()\n",
    "    \n",
    "    media                      = calcularMedia()\n",
    "    cuadradoDistanciaMedia     = calculoCuadradoDistanciaMedia(media)\n",
    "    totalSumaCuadradoDistancia = sumaCuadradoDistancia(cuadradoDistanciaMedia)\n",
    "    dividirDatos               = totalSumaCuadradoDistancia/len(conjuntoDatos)\n",
    "    \n",
    "    print('------------------------------------------------------')\n",
    "    print('Desviación Estándar de => ', conjuntoDatos, ' es =>' ,  dividirDatos**(1/2))"
   ]
  },
  {
   "cell_type": "code",
   "execution_count": 17,
   "metadata": {},
   "outputs": [
    {
     "name": "stdout",
     "output_type": "stream",
     "text": [
      "Agregue un numero al conjunto de datos. Presione ENTER para continuar:8\n",
      "------------------------------------------------------\n",
      "Agregue un numero al conjunto de datos. Presione ENTER para continuar:7\n",
      "------------------------------------------------------\n",
      "Agregue un numero al conjunto de datos. Presione ENTER para continuar:\n",
      "------------------------------------------------------\n",
      "Desviación Estándar de =>  [8, 7]  es => 0.5\n"
     ]
    }
   ],
   "source": [
    "calculoDesviacionEstandar()"
   ]
  },
  {
   "cell_type": "code",
   "execution_count": 16,
   "metadata": {},
   "outputs": [],
   "source": [
    "conjuntoDatos = []"
   ]
  }
 ],
 "metadata": {
  "kernelspec": {
   "display_name": "Python 3",
   "language": "python",
   "name": "python3"
  },
  "language_info": {
   "codemirror_mode": {
    "name": "ipython",
    "version": 3
   },
   "file_extension": ".py",
   "mimetype": "text/x-python",
   "name": "python",
   "nbconvert_exporter": "python",
   "pygments_lexer": "ipython3",
   "version": "3.7.6"
  }
 },
 "nbformat": 4,
 "nbformat_minor": 4
}
